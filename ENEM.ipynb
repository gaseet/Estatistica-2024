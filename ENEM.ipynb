{
 "cells": [
  {
   "cell_type": "code",
   "execution_count": 1,
   "metadata": {},
   "outputs": [],
   "source": [
    "import pandas as pd\n",
    "from tqdm import tqdm"
   ]
  },
  {
   "cell_type": "code",
   "execution_count": 2,
   "metadata": {},
   "outputs": [
    {
     "data": {
      "text/plain": [
       "<bound method tqdm.pandas of <class 'tqdm.std.tqdm'>>"
      ]
     },
     "execution_count": 2,
     "metadata": {},
     "output_type": "execute_result"
    }
   ],
   "source": [
    "tqdm.pandas"
   ]
  },
  {
   "cell_type": "code",
   "execution_count": 7,
   "metadata": {},
   "outputs": [],
   "source": [
    "# Caminho do arquivo CSV\n",
    "caminho_arquivo = 'C:\\\\Users\\\\humbe\\\\OneDrive\\\\Documentos\\\\GitHub\\\\Estatistica-2024\\\\DADOS\\\\MICRODADOS_ENEM_2022.csv'\n",
    "caminho_dicionario = 'C:\\\\Users\\\\humbe\\\\OneDrive\\\\Documentos\\\\GitHub\\\\Estatistica-2024\\\\DICIONÁRIO\\\\Dicionário_Microdados_Enem_2022.xlsx'"
   ]
  },
  {
   "cell_type": "code",
   "execution_count": 6,
   "metadata": {},
   "outputs": [
    {
     "name": "stderr",
     "output_type": "stream",
     "text": [
      "Lendo o arquivo: 0it [00:00, ?it/s]"
     ]
    },
    {
     "name": "stderr",
     "output_type": "stream",
     "text": [
      "Lendo o arquivo: 348it [00:31, 10.93it/s]\n"
     ]
    }
   ],
   "source": [
    "# Importar o arquivo CSV como um DataFrame\n",
    "iterator = pd.read_csv(caminho_arquivo, sep=';', encoding='ISO-8859-1', iterator=True, chunksize=10000)\n",
    "\n",
    "# Concatenar os DataFrames\n",
    "chunks = []\n",
    "\n",
    "for chunk in tqdm(iterator, desc='Lendo o arquivo'):\n",
    "    chunks.append(chunk)\n",
    "\n",
    "df = pd.concat(chunks, ignore_index=True)"
   ]
  },
  {
   "cell_type": "code",
   "execution_count": 8,
   "metadata": {},
   "outputs": [],
   "source": [
    "pd.set_option('display.width', 10000)  # Ajustar o comprimento da linha\n",
    "pd.set_option('display.max_columns', None)"
   ]
  },
  {
   "cell_type": "code",
   "execution_count": 9,
   "metadata": {},
   "outputs": [
    {
     "name": "stdout",
     "output_type": "stream",
     "text": [
      "0             NaN\n",
      "1             NaN\n",
      "2          1087.0\n",
      "3          1088.0\n",
      "4             NaN\n",
      "            ...  \n",
      "3476100       NaN\n",
      "3476101       NaN\n",
      "3476102    1085.0\n",
      "3476103       NaN\n",
      "3476104       NaN\n",
      "Name: CO_PROVA_CN, Length: 3476105, dtype: float64\n"
     ]
    }
   ],
   "source": [
    "# Exibir as primeiras linhas do DataFrame para verificar a importação\n",
    "print(df['CO_PROVA_CN'])"
   ]
  }
 ],
 "metadata": {
  "kernelspec": {
   "display_name": "Python 3",
   "language": "python",
   "name": "python3"
  },
  "language_info": {
   "codemirror_mode": {
    "name": "ipython",
    "version": 3
   },
   "file_extension": ".py",
   "mimetype": "text/x-python",
   "name": "python",
   "nbconvert_exporter": "python",
   "pygments_lexer": "ipython3",
   "version": "3.11.2"
  }
 },
 "nbformat": 4,
 "nbformat_minor": 2
}
